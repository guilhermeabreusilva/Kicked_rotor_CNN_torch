{
 "cells": [
  {
   "cell_type": "code",
   "execution_count": null,
   "metadata": {},
   "outputs": [],
   "source": [
    "import random\n",
    "from PIL import Image\n",
    "import numpy as np\n",
    "\n",
    "import torch\n",
    "from  torchvision import transforms\n",
    "import torch.nn as nn\n",
    "import torch.nn.functional as F"
   ]
  },
  {
   "cell_type": "code",
   "execution_count": null,
   "metadata": {},
   "outputs": [],
   "source": [
    "# CUDA for PyTorch\n",
    "use_cuda = torch.cuda.is_available()\n",
    "device = torch.device(\"cuda:0\")# if use_cuda else \"cpu\")\n",
    "torch.backends.cudnn.benchmark = True"
   ]
  },
  {
   "cell_type": "code",
   "execution_count": null,
   "metadata": {},
   "outputs": [],
   "source": [
    "total = 3683\n",
    "name = []\n",
    "labels = {}\n",
    "for i in range(total):\n",
    "    item = \"KR_k-\" + str(i/1000) + \".png\"\n",
    "    name.append(item)\n",
    "    labelsi = {name[i] : name[i][5:-4]}\n",
    "    labels.update(labelsi)\n",
    "\n",
    "random.shuffle(name)\n",
    "partition = {'train': name[:int(len(name)*0.8)], 'validation': name[int(len(name)*0.8):int(len(name)*0.9)], 'test': name[int(len(name)*0.9):]}"
   ]
  },
  {
   "cell_type": "code",
   "execution_count": null,
   "metadata": {},
   "outputs": [],
   "source": [
    "class Dataset(torch.utils.data.Dataset):\n",
    "  'Characterizes a dataset for PyTorch'\n",
    "  def __init__(self, list_IDs, labels):\n",
    "        'Initialization'\n",
    "        self.labels = labels\n",
    "        self.list_IDs = list_IDs\n",
    "\n",
    "  def __len__(self):\n",
    "        'Denotes the total number of samples'\n",
    "        return len(self.list_IDs)\n",
    "\n",
    "\n",
    "  def __getitem__(self, index):\n",
    "        'Generates one sample of data'\n",
    "        # Select sample\n",
    "        ID = self.list_IDs[index]\n",
    "\n",
    "        # Load data and get label\n",
    "        transform = transforms.Compose([transforms.PILToTensor()])\n",
    "        X = transform(Image.open('./Dados_2/' + ID).resize((100, 100)))/255.\n",
    "        y = self.labels[ID]\n",
    "\n",
    "        return X.to(device), float(y)\n"
   ]
  },
  {
   "cell_type": "markdown",
   "metadata": {},
   "source": [
    "https://pytorch.org/tutorials/beginner/basics/data_tutorial.html#creating-a-custom-dataset-for-your-files\n",
    "\n",
    "https://stanford.edu/~shervine/blog/pytorch-how-to-generate-data-parallel\n",
    "\n",
    "https://www.youtube.com/watch?v=NVxCKdp0NhQ"
   ]
  },
  {
   "cell_type": "code",
   "execution_count": null,
   "metadata": {},
   "outputs": [],
   "source": [
    "# Parameters\n",
    "params = {'batch_size': 32,\n",
    "          'shuffle': True}\n",
    "max_epochs = 100\n",
    "\n",
    "# Generators\n",
    "training_set = Dataset(partition['train'], labels)\n",
    "training_generator = torch.utils.data.DataLoader(training_set, **params)\n",
    "\n",
    "validation_set = Dataset(partition['validation'], labels)\n",
    "validation_generator = torch.utils.data.DataLoader(validation_set, **params)"
   ]
  },
  {
   "cell_type": "code",
   "execution_count": null,
   "metadata": {},
   "outputs": [],
   "source": [
    "class KR(nn.Module):\n",
    "    def __init__(self):\n",
    "        super(KR, self).__init__()\n",
    "        self.conv = nn.Sequential(\n",
    "\n",
    "            nn.Conv2d(4, 8, 3, padding=1), \n",
    "            nn.LeakyReLU(0.1),\n",
    "            nn.BatchNorm2d(8),\n",
    "            nn.MaxPool2d(2, stride=2), #50\n",
    "\n",
    "            nn.Conv2d(8, 16, 3, padding=1), \n",
    "            nn.LeakyReLU(0.1),\n",
    "            nn.BatchNorm2d(16),\n",
    "            nn.MaxPool2d(2, stride=2), #25\n",
    "\n",
    "            nn.Conv2d(16, 32, 3, padding=1), \n",
    "            nn.LeakyReLU(0.1),\n",
    "            nn.BatchNorm2d(32),\n",
    "            nn.MaxPool2d(2, stride=2)) #12\n",
    "        \n",
    "        self.linear = nn.Sequential(\n",
    "\n",
    "            nn.Linear(32*12*12,128),\n",
    "            nn.LeakyReLU(0.1),\n",
    "\n",
    "            nn.Linear(128,1),\n",
    "            nn.LeakyReLU(0.1),\n",
    "\n",
    "            nn.Linear(1,1),\n",
    "            nn.LeakyReLU(0.1))\n",
    "    \n",
    "    def forward(self, x):\n",
    "        h = self.conv(x)\n",
    "        #r = torch.reshape(h, (-1,))\n",
    "        h = h.view(-1, 32*12*12)\n",
    "        h = self.linear(h)\n",
    "        return h"
   ]
  },
  {
   "cell_type": "code",
   "execution_count": null,
   "metadata": {},
   "outputs": [],
   "source": [
    "kr = KR()\n",
    "kr.to(device)"
   ]
  },
  {
   "cell_type": "code",
   "execution_count": null,
   "metadata": {},
   "outputs": [],
   "source": [
    "optimizer = torch.optim.Adam(kr.parameters(), lr=2.5E-3)\n",
    "loss = torch.nn.L1Loss()\n",
    "max_epochs = 300"
   ]
  },
  {
   "cell_type": "code",
   "execution_count": null,
   "metadata": {},
   "outputs": [],
   "source": [
    "# Loop over epochs\n",
    "idx = 0\n",
    "batch_size = 16\n",
    "losses = []\n",
    "loss_per_epoch = []\n",
    "val_loss_per_epoch = []\n",
    "val_losses = []\n",
    "\n",
    "for epoch in range(max_epochs):\n",
    "    # Training\n",
    "    for local_batch, local_labels in training_generator:\n",
    "        idx += 1\n",
    "        # take a batch\n",
    "        local_batch.to(device)\n",
    "        local_labels = torch.Tensor(list(local_labels)).to(device)\n",
    "        optimizer.zero_grad()\n",
    "        # forward pass\n",
    "        input = kr(local_batch).view(-1)\n",
    "        output = torch.nn.functional.mse_loss(input, local_labels)\n",
    "        # backward pass\n",
    "        output.backward()\n",
    "        # update weights\n",
    "        optimizer.step()\n",
    "\n",
    "        losses.append(float(output))\n",
    "\n",
    "        #if idx%100 == 0:\n",
    "    loss_per_epoch.append(float(output))\n",
    "\n",
    "    # Validation\n",
    "    with torch.set_grad_enabled(False):\n",
    "        for vlocal_batch, vlocal_labels in validation_generator:\n",
    "            vlocal_batch.to(device)\n",
    "            vlocal_labels = torch.Tensor(list(vlocal_labels)).to(device)\n",
    "\n",
    "            vinput = kr(vlocal_batch).view(-1)\n",
    "\n",
    "            voutput = torch.nn.functional.mse_loss(vinput, vlocal_labels)\n",
    "\n",
    "\n",
    "            val_losses.append(float(voutput))\n",
    "    \n",
    "    val_loss_per_epoch.append(float(voutput))\n",
    "    \n",
    "    print(\"\\tEpoch\", epoch +1, \"\\tAverage Loss: \", output.tolist()/(batch_size), \"\\tValidation Loss: \", voutput.tolist()/(batch_size))\n",
    "\n",
    "print('Finished Training')"
   ]
  },
  {
   "cell_type": "code",
   "execution_count": null,
   "metadata": {},
   "outputs": [],
   "source": [
    "import matplotlib.pyplot as plt\n",
    "\n",
    "fig = plt.figure()\n",
    "ax = fig.add_subplot(1, 1, 1)\n",
    "ax.plot(np.arange(len(loss_per_epoch)), loss_per_epoch, color='tab:blue', label = 'Train')\n",
    "ax.plot(np.arange(len(val_loss_per_epoch)), val_loss_per_epoch, color='tab:orange', label = \"Val\")\n",
    "plt.show()"
   ]
  },
  {
   "cell_type": "code",
   "execution_count": null,
   "metadata": {},
   "outputs": [],
   "source": [
    "test_set = Dataset(partition['validation'], labels)\n",
    "test_generator = torch.utils.data.DataLoader(test_set, batch_size = 1, shuffle= True)\n",
    "\n",
    "for i in range(10):\n",
    "    tlocal_batch, tlocal_labels = next(iter(test_generator))\n",
    "\n",
    "    pred = kr(tlocal_batch)\n",
    "    print(pred) #prediction\n",
    "    print(tlocal_labels) #true\n",
    "    print('------------')\n",
    "\n"
   ]
  },
  {
   "cell_type": "code",
   "execution_count": null,
   "metadata": {},
   "outputs": [],
   "source": [
    "test_set = Dataset(partition['test'], labels)\n",
    "a = 35\n",
    "test_generator = torch.utils.data.DataLoader(test_set[a], batch_size = 1)\n",
    "\n",
    "tlocal_batch, tlocal_labels = test_generator\n",
    "\n",
    "pred = kr(tlocal_batch)\n",
    "print(pred)\n",
    "print(tlocal_labels)\n",
    "print('------------')\n"
   ]
  }
 ],
 "metadata": {
  "kernelspec": {
   "display_name": "gpu",
   "language": "python",
   "name": "python3"
  },
  "language_info": {
   "codemirror_mode": {
    "name": "ipython",
    "version": 3
   },
   "file_extension": ".py",
   "mimetype": "text/x-python",
   "name": "python",
   "nbconvert_exporter": "python",
   "pygments_lexer": "ipython3",
   "version": "3.12.4"
  }
 },
 "nbformat": 4,
 "nbformat_minor": 2
}
