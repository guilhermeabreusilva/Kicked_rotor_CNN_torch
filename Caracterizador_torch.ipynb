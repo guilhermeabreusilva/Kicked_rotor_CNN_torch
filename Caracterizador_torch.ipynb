{
 "cells": [
  {
   "cell_type": "code",
   "execution_count": 1,
   "metadata": {},
   "outputs": [],
   "source": [
    "import random\n",
    "from PIL import Image\n",
    "import numpy as np\n",
    "\n",
    "import torch\n",
    "from  torchvision import transforms\n",
    "import torch.nn as nn\n",
    "import torch.nn.functional as F\n",
    "from torch.optim.lr_scheduler import ExponentialLR"
   ]
  },
  {
   "cell_type": "code",
   "execution_count": 2,
   "metadata": {},
   "outputs": [],
   "source": [
    "# CUDA for PyTorch\n",
    "use_cuda = torch.cuda.is_available()\n",
    "device = torch.device(\"cuda:0\")# if use_cuda else \"cpu\")\n",
    "torch.backends.cudnn.benchmark = True"
   ]
  },
  {
   "cell_type": "code",
   "execution_count": 3,
   "metadata": {},
   "outputs": [],
   "source": [
    "total = 3683\n",
    "name = []\n",
    "labels = {}\n",
    "for i in range(total):\n",
    "    item = \"KR_k-\" + str(i/1000) + \".png\"\n",
    "    name.append(item)\n",
    "    labelsi = {name[i] : name[i][5:-4]}\n",
    "    labels.update(labelsi)\n",
    "\n",
    "random.shuffle(name)\n",
    "partition = {'train': name[:int(len(name)*0.8)], 'validation': name[int(len(name)*0.8):int(len(name)*0.9)], 'test': name[int(len(name)*0.9):]}"
   ]
  },
  {
   "cell_type": "code",
   "execution_count": 4,
   "metadata": {},
   "outputs": [],
   "source": [
    "class Dataset(torch.utils.data.Dataset):\n",
    "  'Characterizes a dataset for PyTorch'\n",
    "  def __init__(self, list_IDs, labels):\n",
    "        'Initialization'\n",
    "        self.labels = labels\n",
    "        self.list_IDs = list_IDs\n",
    "\n",
    "  def __len__(self):\n",
    "        'Denotes the total number of samples'\n",
    "        return len(self.list_IDs)\n",
    "\n",
    "\n",
    "  def __getitem__(self, index):\n",
    "        'Generates one sample of data'\n",
    "        # Select sample\n",
    "        ID = self.list_IDs[index]\n",
    "\n",
    "        # Load data and get label\n",
    "        transform = transforms.Compose([transforms.PILToTensor()])\n",
    "        X = transform(Image.open('./Dados_2/' + ID).resize((100, 100)))/255.\n",
    "        y = self.labels[ID]\n",
    "\n",
    "        return X.to(device), float(y)\n"
   ]
  },
  {
   "cell_type": "markdown",
   "metadata": {},
   "source": [
    "https://pytorch.org/tutorials/beginner/basics/data_tutorial.html#creating-a-custom-dataset-for-your-files\n",
    "\n",
    "https://stanford.edu/~shervine/blog/pytorch-how-to-generate-data-parallel\n",
    "\n",
    "https://www.youtube.com/watch?v=NVxCKdp0NhQ"
   ]
  },
  {
   "cell_type": "code",
   "execution_count": 5,
   "metadata": {},
   "outputs": [],
   "source": [
    "# Parameters\n",
    "params = {'batch_size': 32,\n",
    "          'shuffle': True}\n",
    "max_epochs = 100\n",
    "\n",
    "# Generators\n",
    "training_set = Dataset(partition['train'], labels)\n",
    "training_generator = torch.utils.data.DataLoader(training_set, **params)\n",
    "\n",
    "validation_set = Dataset(partition['validation'], labels)\n",
    "validation_generator = torch.utils.data.DataLoader(validation_set, **params)"
   ]
  },
  {
   "cell_type": "code",
   "execution_count": 6,
   "metadata": {},
   "outputs": [],
   "source": [
    "class KR(nn.Module):\n",
    "    def __init__(self):\n",
    "        super(KR, self).__init__()\n",
    "        self.conv = nn.Sequential(\n",
    "\n",
    "            nn.Conv2d(4, 8, 3, padding=1), \n",
    "            nn.LeakyReLU(0.1),\n",
    "            nn.BatchNorm2d(8),\n",
    "            nn.MaxPool2d(2, stride=2), #50\n",
    "\n",
    "            nn.Conv2d(8, 16, 3, padding=1), \n",
    "            nn.LeakyReLU(0.1),\n",
    "            nn.BatchNorm2d(16),\n",
    "            nn.MaxPool2d(2, stride=2), #25\n",
    "\n",
    "            nn.Conv2d(16, 32, 3, padding=1), \n",
    "            nn.LeakyReLU(0.1),\n",
    "            nn.BatchNorm2d(32),\n",
    "            nn.MaxPool2d(2, stride=2)) #12\n",
    "        \n",
    "        self.linear = nn.Sequential(\n",
    "\n",
    "            nn.Linear(32*12*12,1024),\n",
    "            nn.LeakyReLU(0.1),\n",
    "\n",
    "            nn.Linear(1024,512),\n",
    "            nn.LeakyReLU(0.1),\n",
    "\n",
    "            nn.Linear(512,128),\n",
    "            nn.LeakyReLU(0.1),\n",
    "\n",
    "            nn.Linear(128,1),\n",
    "            nn.LeakyReLU(0.1),\n",
    "\n",
    "            nn.Linear(1,1))\n",
    "    \n",
    "    def forward(self, x):\n",
    "        h = self.conv(x)\n",
    "        #r = torch.reshape(h, (-1,))\n",
    "        h = h.view(-1, 32*12*12)\n",
    "        h = self.linear(h)\n",
    "        return h"
   ]
  },
  {
   "cell_type": "code",
   "execution_count": 7,
   "metadata": {},
   "outputs": [
    {
     "data": {
      "text/plain": [
       "KR(\n",
       "  (conv): Sequential(\n",
       "    (0): Conv2d(4, 8, kernel_size=(3, 3), stride=(1, 1), padding=(1, 1))\n",
       "    (1): LeakyReLU(negative_slope=0.1)\n",
       "    (2): BatchNorm2d(8, eps=1e-05, momentum=0.1, affine=True, track_running_stats=True)\n",
       "    (3): MaxPool2d(kernel_size=2, stride=2, padding=0, dilation=1, ceil_mode=False)\n",
       "    (4): Conv2d(8, 16, kernel_size=(3, 3), stride=(1, 1), padding=(1, 1))\n",
       "    (5): LeakyReLU(negative_slope=0.1)\n",
       "    (6): BatchNorm2d(16, eps=1e-05, momentum=0.1, affine=True, track_running_stats=True)\n",
       "    (7): MaxPool2d(kernel_size=2, stride=2, padding=0, dilation=1, ceil_mode=False)\n",
       "    (8): Conv2d(16, 32, kernel_size=(3, 3), stride=(1, 1), padding=(1, 1))\n",
       "    (9): LeakyReLU(negative_slope=0.1)\n",
       "    (10): BatchNorm2d(32, eps=1e-05, momentum=0.1, affine=True, track_running_stats=True)\n",
       "    (11): MaxPool2d(kernel_size=2, stride=2, padding=0, dilation=1, ceil_mode=False)\n",
       "  )\n",
       "  (linear): Sequential(\n",
       "    (0): Linear(in_features=4608, out_features=1024, bias=True)\n",
       "    (1): LeakyReLU(negative_slope=0.1)\n",
       "    (2): Linear(in_features=1024, out_features=512, bias=True)\n",
       "    (3): LeakyReLU(negative_slope=0.1)\n",
       "    (4): Linear(in_features=512, out_features=128, bias=True)\n",
       "    (5): LeakyReLU(negative_slope=0.1)\n",
       "    (6): Linear(in_features=128, out_features=1, bias=True)\n",
       "    (7): LeakyReLU(negative_slope=0.1)\n",
       "    (8): Linear(in_features=1, out_features=1, bias=True)\n",
       "  )\n",
       ")"
      ]
     },
     "execution_count": 7,
     "metadata": {},
     "output_type": "execute_result"
    }
   ],
   "source": [
    "kr = KR()\n",
    "kr.to(device)"
   ]
  },
  {
   "cell_type": "code",
   "execution_count": 8,
   "metadata": {},
   "outputs": [],
   "source": [
    "optimizer = torch.optim.Adam(kr.parameters(), lr=2E-3)\n",
    "#scheduler = ExponentialLR(optimizer, gamma=0.9)\n",
    "loss = torch.nn.L1Loss()\n",
    "max_epochs = 300"
   ]
  },
  {
   "cell_type": "code",
   "execution_count": 9,
   "metadata": {},
   "outputs": [
    {
     "name": "stdout",
     "output_type": "stream",
     "text": [
      "\tEpoch 1 \tAverage Loss:  0.005804084707051516 \tValidation Loss:  0.0026676664128899574\n",
      "\tEpoch 2 \tAverage Loss:  9.514971316093579e-05 \tValidation Loss:  0.001426332863047719\n",
      "\tEpoch 3 \tAverage Loss:  0.0009634658927097917 \tValidation Loss:  0.0030645630322396755\n",
      "\tEpoch 4 \tAverage Loss:  0.004410014487802982 \tValidation Loss:  0.0027357989456504583\n",
      "\tEpoch 5 \tAverage Loss:  0.037021711468696594 \tValidation Loss:  0.01104062981903553\n",
      "\tEpoch 6 \tAverage Loss:  0.005016580689698458 \tValidation Loss:  0.0008906901348382235\n",
      "\tEpoch 7 \tAverage Loss:  0.0006587418611161411 \tValidation Loss:  0.0002955826639663428\n",
      "\tEpoch 8 \tAverage Loss:  0.0008934740908443928 \tValidation Loss:  0.002906504785642028\n",
      "\tEpoch 9 \tAverage Loss:  5.909209357923828e-05 \tValidation Loss:  0.000459026254247874\n",
      "\tEpoch 10 \tAverage Loss:  1.9082546714344062e-05 \tValidation Loss:  0.0003348786849528551\n",
      "\tEpoch 11 \tAverage Loss:  0.00039572748937644064 \tValidation Loss:  0.0009339470998384058\n",
      "\tEpoch 12 \tAverage Loss:  0.0003986360097769648 \tValidation Loss:  0.0004933641175739467\n",
      "\tEpoch 13 \tAverage Loss:  0.0001975875347852707 \tValidation Loss:  0.0020111592020839453\n",
      "\tEpoch 14 \tAverage Loss:  6.329777534119785e-05 \tValidation Loss:  0.0013526499969884753\n",
      "\tEpoch 15 \tAverage Loss:  0.0013338644057512283 \tValidation Loss:  0.00044918720959685743\n",
      "\tEpoch 16 \tAverage Loss:  0.00037043896736577153 \tValidation Loss:  0.0015386890154331923\n",
      "\tEpoch 17 \tAverage Loss:  2.7126665372634307e-05 \tValidation Loss:  0.00024282980302814394\n",
      "\tEpoch 18 \tAverage Loss:  0.0005815729382447898 \tValidation Loss:  0.0008537176181562245\n",
      "\tEpoch 19 \tAverage Loss:  0.00016357529966626316 \tValidation Loss:  0.0008992623188532889\n",
      "\tEpoch 20 \tAverage Loss:  7.381806790363044e-05 \tValidation Loss:  0.00035767655936069787\n",
      "\tEpoch 21 \tAverage Loss:  4.760169758810662e-06 \tValidation Loss:  0.00036526680923998356\n",
      "\tEpoch 22 \tAverage Loss:  0.0003022445598617196 \tValidation Loss:  0.000736275571398437\n",
      "\tEpoch 23 \tAverage Loss:  9.374612091050949e-06 \tValidation Loss:  0.00028347453917376697\n",
      "\tEpoch 24 \tAverage Loss:  4.435608389030676e-06 \tValidation Loss:  0.00025055164587683976\n",
      "\tEpoch 25 \tAverage Loss:  0.002017961349338293 \tValidation Loss:  0.0017727450467646122\n",
      "\tEpoch 26 \tAverage Loss:  7.927333354018629e-05 \tValidation Loss:  0.00019112967129331082\n",
      "\tEpoch 27 \tAverage Loss:  0.00030647055245935917 \tValidation Loss:  0.0002696388983167708\n",
      "\tEpoch 28 \tAverage Loss:  0.004138407297432423 \tValidation Loss:  0.006827781908214092\n",
      "\tEpoch 29 \tAverage Loss:  0.013877755962312222 \tValidation Loss:  0.0049032410606741905\n",
      "\tEpoch 30 \tAverage Loss:  2.2564798200619407e-05 \tValidation Loss:  0.0012177013559266925\n",
      "\tEpoch 31 \tAverage Loss:  6.073202166589908e-05 \tValidation Loss:  0.000246924813836813\n",
      "\tEpoch 32 \tAverage Loss:  0.00024234075681306422 \tValidation Loss:  0.0018415728118270636\n",
      "\tEpoch 33 \tAverage Loss:  0.0028904294595122337 \tValidation Loss:  0.0023538609966635704\n",
      "\tEpoch 34 \tAverage Loss:  2.193669934058562e-05 \tValidation Loss:  0.0025066102389246225\n",
      "\tEpoch 35 \tAverage Loss:  3.9617138099856675e-05 \tValidation Loss:  0.00048157310811802745\n",
      "\tEpoch 36 \tAverage Loss:  0.0007336997659876943 \tValidation Loss:  0.000696034578140825\n",
      "\tEpoch 37 \tAverage Loss:  0.00030620116740465164 \tValidation Loss:  0.0006590158445760608\n",
      "\tEpoch 38 \tAverage Loss:  0.00019684864673763514 \tValidation Loss:  0.00036654132418334484\n",
      "\tEpoch 39 \tAverage Loss:  1.3022513485339005e-05 \tValidation Loss:  0.0005323271616362035\n",
      "\tEpoch 40 \tAverage Loss:  0.00010982112144120038 \tValidation Loss:  0.00017991819186136127\n",
      "\tEpoch 41 \tAverage Loss:  0.00042604812188073993 \tValidation Loss:  0.0007657686364836991\n",
      "\tEpoch 42 \tAverage Loss:  4.4258842535782605e-05 \tValidation Loss:  0.00028414151165634394\n",
      "\tEpoch 43 \tAverage Loss:  8.73758690431714e-05 \tValidation Loss:  0.00018358122906647623\n",
      "\tEpoch 44 \tAverage Loss:  0.0004151210014242679 \tValidation Loss:  0.00040724879363551736\n",
      "\tEpoch 45 \tAverage Loss:  0.00035600498085841537 \tValidation Loss:  0.0006856842082925141\n",
      "\tEpoch 46 \tAverage Loss:  9.77818199316971e-05 \tValidation Loss:  0.00022840217570774257\n",
      "\tEpoch 47 \tAverage Loss:  0.0001903274533106014 \tValidation Loss:  0.0009375788504257798\n",
      "\tEpoch 48 \tAverage Loss:  0.000369958026567474 \tValidation Loss:  0.0005461711552925408\n",
      "\tEpoch 49 \tAverage Loss:  0.0003976785810664296 \tValidation Loss:  0.0010956426849588752\n",
      "\tEpoch 50 \tAverage Loss:  0.0002755333262030035 \tValidation Loss:  0.0004072423907928169\n",
      "\tEpoch 51 \tAverage Loss:  0.00030324168619699776 \tValidation Loss:  0.0005158977583050728\n",
      "\tEpoch 52 \tAverage Loss:  7.855488365748897e-05 \tValidation Loss:  0.0002876005892176181\n",
      "\tEpoch 53 \tAverage Loss:  8.027561125345528e-05 \tValidation Loss:  0.00015333954070229083\n",
      "\tEpoch 54 \tAverage Loss:  3.9341564843198285e-05 \tValidation Loss:  0.0006005538161844015\n",
      "\tEpoch 55 \tAverage Loss:  0.00011559818085515872 \tValidation Loss:  0.00023851022706367075\n",
      "\tEpoch 56 \tAverage Loss:  0.0007735833642072976 \tValidation Loss:  0.0001354338601231575\n",
      "\tEpoch 57 \tAverage Loss:  0.00044331804383546114 \tValidation Loss:  0.000558545405510813\n",
      "\tEpoch 58 \tAverage Loss:  0.00015598202298860997 \tValidation Loss:  0.00013616957585327327\n",
      "\tEpoch 59 \tAverage Loss:  0.0005194373661652207 \tValidation Loss:  0.001990769524127245\n",
      "\tEpoch 60 \tAverage Loss:  5.635976776829921e-05 \tValidation Loss:  0.0003046804922632873\n"
     ]
    },
    {
     "ename": "KeyboardInterrupt",
     "evalue": "",
     "output_type": "error",
     "traceback": [
      "\u001b[1;31m---------------------------------------------------------------------------\u001b[0m",
      "\u001b[1;31mKeyboardInterrupt\u001b[0m                         Traceback (most recent call last)",
      "Cell \u001b[1;32mIn[9], line 11\u001b[0m\n\u001b[0;32m      7\u001b[0m val_losses \u001b[38;5;241m=\u001b[39m []\n\u001b[0;32m      9\u001b[0m \u001b[38;5;28;01mfor\u001b[39;00m epoch \u001b[38;5;129;01min\u001b[39;00m \u001b[38;5;28mrange\u001b[39m(max_epochs):\n\u001b[0;32m     10\u001b[0m     \u001b[38;5;66;03m# Training\u001b[39;00m\n\u001b[1;32m---> 11\u001b[0m \u001b[43m    \u001b[49m\u001b[38;5;28;43;01mfor\u001b[39;49;00m\u001b[43m \u001b[49m\u001b[43mlocal_batch\u001b[49m\u001b[43m,\u001b[49m\u001b[43m \u001b[49m\u001b[43mlocal_labels\u001b[49m\u001b[43m \u001b[49m\u001b[38;5;129;43;01min\u001b[39;49;00m\u001b[43m \u001b[49m\u001b[43mtraining_generator\u001b[49m\u001b[43m:\u001b[49m\n\u001b[0;32m     12\u001b[0m \u001b[43m        \u001b[49m\u001b[43midx\u001b[49m\u001b[43m \u001b[49m\u001b[38;5;241;43m+\u001b[39;49m\u001b[38;5;241;43m=\u001b[39;49m\u001b[43m \u001b[49m\u001b[38;5;241;43m1\u001b[39;49m\n\u001b[0;32m     13\u001b[0m \u001b[43m        \u001b[49m\u001b[38;5;66;43;03m# take a batch\u001b[39;49;00m\n",
      "File \u001b[1;32mc:\\Users\\guilh\\miniconda3\\envs\\gpu\\Lib\\site-packages\\torch\\utils\\data\\dataloader.py:631\u001b[0m, in \u001b[0;36m_BaseDataLoaderIter.__next__\u001b[1;34m(self)\u001b[0m\n\u001b[0;32m    628\u001b[0m \u001b[38;5;28;01mif\u001b[39;00m \u001b[38;5;28mself\u001b[39m\u001b[38;5;241m.\u001b[39m_sampler_iter \u001b[38;5;129;01mis\u001b[39;00m \u001b[38;5;28;01mNone\u001b[39;00m:\n\u001b[0;32m    629\u001b[0m     \u001b[38;5;66;03m# TODO(https://github.com/pytorch/pytorch/issues/76750)\u001b[39;00m\n\u001b[0;32m    630\u001b[0m     \u001b[38;5;28mself\u001b[39m\u001b[38;5;241m.\u001b[39m_reset()  \u001b[38;5;66;03m# type: ignore[call-arg]\u001b[39;00m\n\u001b[1;32m--> 631\u001b[0m data \u001b[38;5;241m=\u001b[39m \u001b[38;5;28;43mself\u001b[39;49m\u001b[38;5;241;43m.\u001b[39;49m\u001b[43m_next_data\u001b[49m\u001b[43m(\u001b[49m\u001b[43m)\u001b[49m\n\u001b[0;32m    632\u001b[0m \u001b[38;5;28mself\u001b[39m\u001b[38;5;241m.\u001b[39m_num_yielded \u001b[38;5;241m+\u001b[39m\u001b[38;5;241m=\u001b[39m \u001b[38;5;241m1\u001b[39m\n\u001b[0;32m    633\u001b[0m \u001b[38;5;28;01mif\u001b[39;00m \u001b[38;5;28mself\u001b[39m\u001b[38;5;241m.\u001b[39m_dataset_kind \u001b[38;5;241m==\u001b[39m _DatasetKind\u001b[38;5;241m.\u001b[39mIterable \u001b[38;5;129;01mand\u001b[39;00m \\\n\u001b[0;32m    634\u001b[0m         \u001b[38;5;28mself\u001b[39m\u001b[38;5;241m.\u001b[39m_IterableDataset_len_called \u001b[38;5;129;01mis\u001b[39;00m \u001b[38;5;129;01mnot\u001b[39;00m \u001b[38;5;28;01mNone\u001b[39;00m \u001b[38;5;129;01mand\u001b[39;00m \\\n\u001b[0;32m    635\u001b[0m         \u001b[38;5;28mself\u001b[39m\u001b[38;5;241m.\u001b[39m_num_yielded \u001b[38;5;241m>\u001b[39m \u001b[38;5;28mself\u001b[39m\u001b[38;5;241m.\u001b[39m_IterableDataset_len_called:\n",
      "File \u001b[1;32mc:\\Users\\guilh\\miniconda3\\envs\\gpu\\Lib\\site-packages\\torch\\utils\\data\\dataloader.py:675\u001b[0m, in \u001b[0;36m_SingleProcessDataLoaderIter._next_data\u001b[1;34m(self)\u001b[0m\n\u001b[0;32m    673\u001b[0m \u001b[38;5;28;01mdef\u001b[39;00m \u001b[38;5;21m_next_data\u001b[39m(\u001b[38;5;28mself\u001b[39m):\n\u001b[0;32m    674\u001b[0m     index \u001b[38;5;241m=\u001b[39m \u001b[38;5;28mself\u001b[39m\u001b[38;5;241m.\u001b[39m_next_index()  \u001b[38;5;66;03m# may raise StopIteration\u001b[39;00m\n\u001b[1;32m--> 675\u001b[0m     data \u001b[38;5;241m=\u001b[39m \u001b[38;5;28;43mself\u001b[39;49m\u001b[38;5;241;43m.\u001b[39;49m\u001b[43m_dataset_fetcher\u001b[49m\u001b[38;5;241;43m.\u001b[39;49m\u001b[43mfetch\u001b[49m\u001b[43m(\u001b[49m\u001b[43mindex\u001b[49m\u001b[43m)\u001b[49m  \u001b[38;5;66;03m# may raise StopIteration\u001b[39;00m\n\u001b[0;32m    676\u001b[0m     \u001b[38;5;28;01mif\u001b[39;00m \u001b[38;5;28mself\u001b[39m\u001b[38;5;241m.\u001b[39m_pin_memory:\n\u001b[0;32m    677\u001b[0m         data \u001b[38;5;241m=\u001b[39m _utils\u001b[38;5;241m.\u001b[39mpin_memory\u001b[38;5;241m.\u001b[39mpin_memory(data, \u001b[38;5;28mself\u001b[39m\u001b[38;5;241m.\u001b[39m_pin_memory_device)\n",
      "File \u001b[1;32mc:\\Users\\guilh\\miniconda3\\envs\\gpu\\Lib\\site-packages\\torch\\utils\\data\\_utils\\fetch.py:51\u001b[0m, in \u001b[0;36m_MapDatasetFetcher.fetch\u001b[1;34m(self, possibly_batched_index)\u001b[0m\n\u001b[0;32m     49\u001b[0m         data \u001b[38;5;241m=\u001b[39m \u001b[38;5;28mself\u001b[39m\u001b[38;5;241m.\u001b[39mdataset\u001b[38;5;241m.\u001b[39m__getitems__(possibly_batched_index)\n\u001b[0;32m     50\u001b[0m     \u001b[38;5;28;01melse\u001b[39;00m:\n\u001b[1;32m---> 51\u001b[0m         data \u001b[38;5;241m=\u001b[39m [\u001b[38;5;28;43mself\u001b[39;49m\u001b[38;5;241;43m.\u001b[39;49m\u001b[43mdataset\u001b[49m\u001b[43m[\u001b[49m\u001b[43midx\u001b[49m\u001b[43m]\u001b[49m \u001b[38;5;28;01mfor\u001b[39;00m idx \u001b[38;5;129;01min\u001b[39;00m possibly_batched_index]\n\u001b[0;32m     52\u001b[0m \u001b[38;5;28;01melse\u001b[39;00m:\n\u001b[0;32m     53\u001b[0m     data \u001b[38;5;241m=\u001b[39m \u001b[38;5;28mself\u001b[39m\u001b[38;5;241m.\u001b[39mdataset[possibly_batched_index]\n",
      "Cell \u001b[1;32mIn[4], line 20\u001b[0m, in \u001b[0;36mDataset.__getitem__\u001b[1;34m(self, index)\u001b[0m\n\u001b[0;32m     18\u001b[0m \u001b[38;5;66;03m# Load data and get label\u001b[39;00m\n\u001b[0;32m     19\u001b[0m transform \u001b[38;5;241m=\u001b[39m transforms\u001b[38;5;241m.\u001b[39mCompose([transforms\u001b[38;5;241m.\u001b[39mPILToTensor()])\n\u001b[1;32m---> 20\u001b[0m X \u001b[38;5;241m=\u001b[39m transform(\u001b[43mImage\u001b[49m\u001b[38;5;241;43m.\u001b[39;49m\u001b[43mopen\u001b[49m\u001b[43m(\u001b[49m\u001b[38;5;124;43m'\u001b[39;49m\u001b[38;5;124;43m./Dados_2/\u001b[39;49m\u001b[38;5;124;43m'\u001b[39;49m\u001b[43m \u001b[49m\u001b[38;5;241;43m+\u001b[39;49m\u001b[43m \u001b[49m\u001b[43mID\u001b[49m\u001b[43m)\u001b[49m\u001b[38;5;241;43m.\u001b[39;49m\u001b[43mresize\u001b[49m\u001b[43m(\u001b[49m\u001b[43m(\u001b[49m\u001b[38;5;241;43m100\u001b[39;49m\u001b[43m,\u001b[49m\u001b[43m \u001b[49m\u001b[38;5;241;43m100\u001b[39;49m\u001b[43m)\u001b[49m\u001b[43m)\u001b[49m)\u001b[38;5;241m/\u001b[39m\u001b[38;5;241m255.\u001b[39m\n\u001b[0;32m     21\u001b[0m y \u001b[38;5;241m=\u001b[39m \u001b[38;5;28mself\u001b[39m\u001b[38;5;241m.\u001b[39mlabels[ID]\n\u001b[0;32m     23\u001b[0m \u001b[38;5;28;01mreturn\u001b[39;00m X\u001b[38;5;241m.\u001b[39mto(device), \u001b[38;5;28mfloat\u001b[39m(y)\n",
      "File \u001b[1;32mc:\\Users\\guilh\\miniconda3\\envs\\gpu\\Lib\\site-packages\\PIL\\Image.py:2177\u001b[0m, in \u001b[0;36mImage.resize\u001b[1;34m(self, size, resample, box, reducing_gap)\u001b[0m\n\u001b[0;32m   2174\u001b[0m     resample \u001b[38;5;241m=\u001b[39m Resampling\u001b[38;5;241m.\u001b[39mNEAREST\n\u001b[0;32m   2176\u001b[0m \u001b[38;5;28;01mif\u001b[39;00m \u001b[38;5;28mself\u001b[39m\u001b[38;5;241m.\u001b[39mmode \u001b[38;5;129;01min\u001b[39;00m [\u001b[38;5;124m\"\u001b[39m\u001b[38;5;124mLA\u001b[39m\u001b[38;5;124m\"\u001b[39m, \u001b[38;5;124m\"\u001b[39m\u001b[38;5;124mRGBA\u001b[39m\u001b[38;5;124m\"\u001b[39m] \u001b[38;5;129;01mand\u001b[39;00m resample \u001b[38;5;241m!=\u001b[39m Resampling\u001b[38;5;241m.\u001b[39mNEAREST:\n\u001b[1;32m-> 2177\u001b[0m     im \u001b[38;5;241m=\u001b[39m \u001b[38;5;28;43mself\u001b[39;49m\u001b[38;5;241;43m.\u001b[39;49m\u001b[43mconvert\u001b[49m\u001b[43m(\u001b[49m\u001b[43m{\u001b[49m\u001b[38;5;124;43m\"\u001b[39;49m\u001b[38;5;124;43mLA\u001b[39;49m\u001b[38;5;124;43m\"\u001b[39;49m\u001b[43m:\u001b[49m\u001b[43m \u001b[49m\u001b[38;5;124;43m\"\u001b[39;49m\u001b[38;5;124;43mLa\u001b[39;49m\u001b[38;5;124;43m\"\u001b[39;49m\u001b[43m,\u001b[49m\u001b[43m \u001b[49m\u001b[38;5;124;43m\"\u001b[39;49m\u001b[38;5;124;43mRGBA\u001b[39;49m\u001b[38;5;124;43m\"\u001b[39;49m\u001b[43m:\u001b[49m\u001b[43m \u001b[49m\u001b[38;5;124;43m\"\u001b[39;49m\u001b[38;5;124;43mRGBa\u001b[39;49m\u001b[38;5;124;43m\"\u001b[39;49m\u001b[43m}\u001b[49m\u001b[43m[\u001b[49m\u001b[38;5;28;43mself\u001b[39;49m\u001b[38;5;241;43m.\u001b[39;49m\u001b[43mmode\u001b[49m\u001b[43m]\u001b[49m\u001b[43m)\u001b[49m\n\u001b[0;32m   2178\u001b[0m     im \u001b[38;5;241m=\u001b[39m im\u001b[38;5;241m.\u001b[39mresize(size, resample, box)\n\u001b[0;32m   2179\u001b[0m     \u001b[38;5;28;01mreturn\u001b[39;00m im\u001b[38;5;241m.\u001b[39mconvert(\u001b[38;5;28mself\u001b[39m\u001b[38;5;241m.\u001b[39mmode)\n",
      "File \u001b[1;32mc:\\Users\\guilh\\miniconda3\\envs\\gpu\\Lib\\site-packages\\PIL\\Image.py:1068\u001b[0m, in \u001b[0;36mImage.convert\u001b[1;34m(self, mode, matrix, dither, palette, colors)\u001b[0m\n\u001b[0;32m   1065\u001b[0m     dither \u001b[38;5;241m=\u001b[39m Dither\u001b[38;5;241m.\u001b[39mFLOYDSTEINBERG\n\u001b[0;32m   1067\u001b[0m \u001b[38;5;28;01mtry\u001b[39;00m:\n\u001b[1;32m-> 1068\u001b[0m     im \u001b[38;5;241m=\u001b[39m \u001b[38;5;28;43mself\u001b[39;49m\u001b[38;5;241;43m.\u001b[39;49m\u001b[43mim\u001b[49m\u001b[38;5;241;43m.\u001b[39;49m\u001b[43mconvert\u001b[49m\u001b[43m(\u001b[49m\u001b[43mmode\u001b[49m\u001b[43m,\u001b[49m\u001b[43m \u001b[49m\u001b[43mdither\u001b[49m\u001b[43m)\u001b[49m\n\u001b[0;32m   1069\u001b[0m \u001b[38;5;28;01mexcept\u001b[39;00m \u001b[38;5;167;01mValueError\u001b[39;00m:\n\u001b[0;32m   1070\u001b[0m     \u001b[38;5;28;01mtry\u001b[39;00m:\n\u001b[0;32m   1071\u001b[0m         \u001b[38;5;66;03m# normalize source image and try again\u001b[39;00m\n",
      "\u001b[1;31mKeyboardInterrupt\u001b[0m: "
     ]
    }
   ],
   "source": [
    "# Loop over epochs\n",
    "idx = 0\n",
    "batch_size = 16\n",
    "losses = []\n",
    "loss_per_epoch = []\n",
    "val_loss_per_epoch = []\n",
    "val_losses = []\n",
    "\n",
    "for epoch in range(max_epochs):\n",
    "    # Training\n",
    "    for local_batch, local_labels in training_generator:\n",
    "        idx += 1\n",
    "        # take a batch\n",
    "        local_batch.to(device)\n",
    "        local_labels = torch.Tensor(list(local_labels)).to(device)\n",
    "        optimizer.zero_grad()\n",
    "        # forward pass\n",
    "        input = kr(local_batch).view(-1)\n",
    "        output = torch.nn.functional.mse_loss(input, local_labels)\n",
    "        # backward pass\n",
    "        output.backward()\n",
    "        # update weights\n",
    "        optimizer.step()\n",
    "\n",
    "        losses.append(float(output))\n",
    "\n",
    "        #if idx%100 == 0:\n",
    "    loss_per_epoch.append(float(output))\n",
    "\n",
    "    # Validation\n",
    "    with torch.set_grad_enabled(False):\n",
    "        for vlocal_batch, vlocal_labels in validation_generator:\n",
    "            vlocal_batch.to(device)\n",
    "            vlocal_labels = torch.Tensor(list(vlocal_labels)).to(device)\n",
    "\n",
    "            vinput = kr(vlocal_batch).view(-1)\n",
    "\n",
    "            voutput = torch.nn.functional.mse_loss(vinput, vlocal_labels)\n",
    "\n",
    "\n",
    "            val_losses.append(float(voutput))\n",
    "    \n",
    "    val_loss_per_epoch.append(float(voutput))\n",
    "    #scheduler.step()\n",
    "\n",
    "    print(\"\\tEpoch\", epoch +1, \"\\tAverage Loss: \", output.tolist()/(batch_size), \"\\tValidation Loss: \", voutput.tolist()/(batch_size))\n",
    "\n",
    "print('Finished Training')"
   ]
  },
  {
   "cell_type": "code",
   "execution_count": 10,
   "metadata": {},
   "outputs": [
    {
     "data": {
      "image/png": "[encoded data removed]",
      "text/plain": [
       "<Figure size 640x480 with 1 Axes>"
      ]
     },
     "metadata": {},
     "output_type": "display_data"
    }
   ],
   "source": [
    "import matplotlib.pyplot as plt\n",
    "\n",
    "fig = plt.figure()\n",
    "ax = fig.add_subplot(1, 1, 1)\n",
    "ax.plot(np.arange(len(loss_per_epoch)), loss_per_epoch, color='tab:blue', label = 'Train')\n",
    "ax.plot(np.arange(len(val_loss_per_epoch)), val_loss_per_epoch, color='tab:orange', label = \"Val\")\n",
    "plt.show()"
   ]
  },
  {
   "cell_type": "code",
   "execution_count": 11,
   "metadata": {},
   "outputs": [
    {
     "name": "stdout",
     "output_type": "stream",
     "text": [
      "tensor([[1.3961]], device='cuda:0', grad_fn=<AddmmBackward0>)\n",
      "tensor([1.4060], dtype=torch.float64)\n",
      "------------\n",
      "tensor([[3.5252]], device='cuda:0', grad_fn=<AddmmBackward0>)\n",
      "tensor([3.5500], dtype=torch.float64)\n",
      "------------\n",
      "tensor([[1.9263]], device='cuda:0', grad_fn=<AddmmBackward0>)\n",
      "tensor([1.8470], dtype=torch.float64)\n",
      "------------\n",
      "tensor([[0.7760]], device='cuda:0', grad_fn=<AddmmBackward0>)\n",
      "tensor([0.8110], dtype=torch.float64)\n",
      "------------\n",
      "tensor([[1.7153]], device='cuda:0', grad_fn=<AddmmBackward0>)\n",
      "tensor([1.7490], dtype=torch.float64)\n",
      "------------\n",
      "tensor([[3.5213]], device='cuda:0', grad_fn=<AddmmBackward0>)\n",
      "tensor([3.6100], dtype=torch.float64)\n",
      "------------\n",
      "tensor([[2.4089]], device='cuda:0', grad_fn=<AddmmBackward0>)\n",
      "tensor([2.3250], dtype=torch.float64)\n",
      "------------\n",
      "tensor([[3.3270]], device='cuda:0', grad_fn=<AddmmBackward0>)\n",
      "tensor([3.2350], dtype=torch.float64)\n",
      "------------\n",
      "tensor([[1.6101]], device='cuda:0', grad_fn=<AddmmBackward0>)\n",
      "tensor([1.6460], dtype=torch.float64)\n",
      "------------\n",
      "tensor([[3.0092]], device='cuda:0', grad_fn=<AddmmBackward0>)\n",
      "tensor([3.0240], dtype=torch.float64)\n",
      "------------\n"
     ]
    }
   ],
   "source": [
    "test_set = Dataset(partition['validation'], labels)\n",
    "test_generator = torch.utils.data.DataLoader(test_set, batch_size = 1, shuffle= True)\n",
    "\n",
    "for i in range(10):\n",
    "    tlocal_batch, tlocal_labels = next(iter(test_generator))\n",
    "\n",
    "    pred = kr(tlocal_batch)\n",
    "    print(pred) #prediction\n",
    "    print(tlocal_labels) #true\n",
    "    print('------------')\n",
    "\n"
   ]
  },
  {
   "cell_type": "code",
   "execution_count": null,
   "metadata": {},
   "outputs": [
    {
     "name": "stdout",
     "output_type": "stream",
     "text": [
      "tensor([[3.3612]], device='cuda:0', grad_fn=<LeakyReluBackward0>)\n",
      "tensor([3.4300], dtype=torch.float64)\n",
      "------------\n"
     ]
    }
   ],
   "source": [
    "test_set = Dataset(partition['test'], labels)\n",
    "a = 35\n",
    "test_generator = torch.utils.data.DataLoader(test_set[a], batch_size = 1)\n",
    "\n",
    "tlocal_batch, tlocal_labels = test_generator\n",
    "\n",
    "pred = kr(tlocal_batch)\n",
    "print(pred)\n",
    "print(tlocal_labels)\n",
    "print('------------')\n"
   ]
  }
 ],
 "metadata": {
  "kernelspec": {
   "display_name": "gpu",
   "language": "python",
   "name": "python3"
  },
  "language_info": {
   "codemirror_mode": {
    "name": "ipython",
    "version": 3
   },
   "file_extension": ".py",
   "mimetype": "text/x-python",
   "name": "python",
   "nbconvert_exporter": "python",
   "pygments_lexer": "ipython3",
   "version": "3.12.4"
  }
 },
 "nbformat": 4,
 "nbformat_minor": 2
}
